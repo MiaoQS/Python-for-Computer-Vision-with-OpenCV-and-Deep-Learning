{
 "cells": [
  {
   "cell_type": "code",
   "execution_count": 9,
   "id": "717a9bd9-85fa-42c1-9454-edb3808b6ae8",
   "metadata": {},
   "outputs": [],
   "source": [
    "import cv2\n",
    "\n",
    "import time\n",
    "\n",
    "cap = cv2.VideoCapture('C://Users/86188/Desktop/Python Data/DATA/video_capture.mp4')\n",
    "\n",
    "if cap.isOpened() == False:\n",
    "    \n",
    "    print('ERROR FILE NOT FOUND! OR WRONG CODEC USED!')\n",
    "    \n",
    "while cap.isOpened():\n",
    "    \n",
    "    ret,frame = cap.read()\n",
    "    \n",
    "    if ret == True:\n",
    "        \n",
    "        #WRITER FPS 20\n",
    "        time.sleep(1/20) # 用于将视频调整至正常播放速度\n",
    "        cv2.imshow('frame',frame)\n",
    "        \n",
    "        if cv2.waitKey(20) & 0xFF == ord('q'):\n",
    "            \n",
    "            break\n",
    "    \n",
    "    else:\n",
    "        \n",
    "        break\n",
    "\n",
    "cap.release()\n",
    "cv2.destroyAllWindows()"
   ]
  }
 ],
 "metadata": {
  "kernelspec": {
   "display_name": "Python 3",
   "language": "python",
   "name": "python3"
  },
  "language_info": {
   "codemirror_mode": {
    "name": "ipython",
    "version": 3
   },
   "file_extension": ".py",
   "mimetype": "text/x-python",
   "name": "python",
   "nbconvert_exporter": "python",
   "pygments_lexer": "ipython3",
   "version": "3.8.8"
  }
 },
 "nbformat": 4,
 "nbformat_minor": 5
}
