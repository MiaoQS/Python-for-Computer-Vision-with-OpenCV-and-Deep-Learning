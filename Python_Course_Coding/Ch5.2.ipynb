{
 "cells": [
  {
   "cell_type": "code",
   "execution_count": 1,
   "id": "9c517e02-b084-4c62-8539-dbca7d349ae8",
   "metadata": {},
   "outputs": [],
   "source": [
    "# 确保你在连接摄像头或者视频文件时，左边的视频流里只有一个处于运行状态，否则会报错；\n",
    "# 当有多个视频处于被调用状态时，右键取消其Kernel运行状态"
   ]
  },
  {
   "cell_type": "code",
   "execution_count": 11,
   "id": "295093f7-1f61-4f59-9c37-7b48a8112f59",
   "metadata": {},
   "outputs": [],
   "source": [
    "import cv2\n",
    "\n",
    "cap = cv2.VideoCapture(0) # VideoCapture()中参数是0，表示打开笔记本的内置摄像头，参数是视频文件路径则打开视频，如cap = cv2.VideoCapture(“../test.avi”)\n",
    "\n",
    "width = int(cap.get(cv2.CAP_PROP_FRAME_WIDTH)) # 获取视频的信息\n",
    "height = int(cap.get(cv2.CAP_PROP_FRAME_HEIGHT)) # 获取视频的信息\n",
    "\n",
    "# WINDOWS -- *'DIVX'：用于不同操作系统的视频文件保存\n",
    "writer = cv2.VideoWriter('C://Users/86188/Desktop/Python Data/Test_Image/MySuperVideo.mp4',cv2.VideoWriter_fourcc(*'DIVX'),20,(width,height))\n",
    "\n",
    "while True:\n",
    "    \n",
    "    ret,frame = cap.read() # cap.read()按帧读取视频，ret,frame是获cap.read()方法的两个返回值。其中ret是布尔值，如果读取帧是正确的则返回True，如果文件读取到结尾，它的返回值就为False。frame就是每一帧的图像，是个三维矩阵。\n",
    "\n",
    "    # gray = cv2.cvtColor(frame,cv2.COLOR_BGR2GRAY)\n",
    "    \n",
    "    # OPERATION (DRAWING)\n",
    "    \n",
    "    cv2.imshow('frame',frame)\n",
    "    \n",
    "    if cv2.waitKey(1) & 0xFF == ord('q'):\n",
    "        \n",
    "        break\n",
    "\n",
    "cap.release()\n",
    "writer.release()\n",
    "cv2.destroyAllWindows()"
   ]
  },
  {
   "cell_type": "code",
   "execution_count": 7,
   "id": "cdd2e467-1a2c-4113-921e-ce33719c1fb1",
   "metadata": {},
   "outputs": [
    {
     "data": {
      "text/plain": [
       "'C:\\\\Users\\\\86188\\\\Python_Course_Coding'"
      ]
     },
     "execution_count": 7,
     "metadata": {},
     "output_type": "execute_result"
    }
   ],
   "source": [
    "pwd # 文件所在位置文件夹"
   ]
  },
  {
   "cell_type": "code",
   "execution_count": null,
   "id": "9bb013cb-861c-40b1-86a5-6252c664b4ab",
   "metadata": {},
   "outputs": [],
   "source": []
  }
 ],
 "metadata": {
  "kernelspec": {
   "display_name": "Python 3",
   "language": "python",
   "name": "python3"
  },
  "language_info": {
   "codemirror_mode": {
    "name": "ipython",
    "version": 3
   },
   "file_extension": ".py",
   "mimetype": "text/x-python",
   "name": "python",
   "nbconvert_exporter": "python",
   "pygments_lexer": "ipython3",
   "version": "3.8.8"
  }
 },
 "nbformat": 4,
 "nbformat_minor": 5
}
