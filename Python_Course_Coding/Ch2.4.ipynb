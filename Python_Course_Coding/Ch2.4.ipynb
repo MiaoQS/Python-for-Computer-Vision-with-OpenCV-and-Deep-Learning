{
 "cells": [
  {
   "cell_type": "code",
   "execution_count": 1,
   "id": "e8e5a5b5-8ff4-42c4-9108-bdbe98c3b7b9",
   "metadata": {},
   "outputs": [],
   "source": [
    "import numpy as np"
   ]
  },
  {
   "cell_type": "code",
   "execution_count": 2,
   "id": "bcdab2ab-1925-4bb0-80dd-ac12ba437b7c",
   "metadata": {},
   "outputs": [],
   "source": [
    "import matplotlib.pyplot as plt #画图；在notebook里展示图片\n",
    "%matplotlib inline"
   ]
  },
  {
   "cell_type": "code",
   "execution_count": 3,
   "id": "673bed68-5b5e-4ed2-a336-337636e4e6b5",
   "metadata": {},
   "outputs": [],
   "source": [
    "from PIL import Image #用于打开图片文件"
   ]
  },
  {
   "cell_type": "code",
   "execution_count": null,
   "id": "318f403b-ec4f-42b0-a4e3-6d3fff311f8a",
   "metadata": {},
   "outputs": [],
   "source": []
  }
 ],
 "metadata": {
  "kernelspec": {
   "display_name": "Python 3",
   "language": "python",
   "name": "python3"
  },
  "language_info": {
   "codemirror_mode": {
    "name": "ipython",
    "version": 3
   },
   "file_extension": ".py",
   "mimetype": "text/x-python",
   "name": "python",
   "nbconvert_exporter": "python",
   "pygments_lexer": "ipython3",
   "version": "3.8.8"
  }
 },
 "nbformat": 4,
 "nbformat_minor": 5
}
